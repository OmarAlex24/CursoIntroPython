{
 "cells": [
  {
   "cell_type": "markdown",
   "metadata": {},
   "source": [
    "Encuentra el archivo"
   ]
  },
  {
   "cell_type": "code",
   "execution_count": 14,
   "metadata": {},
   "outputs": [
    {
     "name": "stdout",
     "output_type": "stream",
     "text": [
      "Encontramos el archivo\n"
     ]
    }
   ],
   "source": [
    "def main():\n",
    "    try:\n",
    "        configuracion = open('prueba.txt')\n",
    "        print(\"Encontramos el archivo\")\n",
    "    except FileNotFoundError:\n",
    "        print(\"No encontramos el archivo especificado\")\n",
    "    except IsADirectoryError:\n",
    "        print(f\"Encontramos Prueba pero es un directorio\")\n",
    "        \n",
    "if __name__ == '__main__':\n",
    "    main()"
   ]
  },
  {
   "cell_type": "markdown",
   "metadata": {},
   "source": [
    "No encuentra el archivo"
   ]
  },
  {
   "cell_type": "code",
   "execution_count": 15,
   "metadata": {},
   "outputs": [
    {
     "name": "stdout",
     "output_type": "stream",
     "text": [
      "No encontramos el archivo especificado\n"
     ]
    }
   ],
   "source": [
    "def main():\n",
    "    try:\n",
    "        configuracion = open('prueba.txt')\n",
    "        print(\"Encontramos el archivo\")\n",
    "    except FileNotFoundError:\n",
    "        print(\"No encontramos el archivo especificado\")\n",
    "    except IsADirectoryError:\n",
    "        print(f\"Encontramos Prueba pero es un directorio\")\n",
    "        \n",
    "if __name__ == '__main__':\n",
    "    main()"
   ]
  },
  {
   "cell_type": "markdown",
   "metadata": {},
   "source": [
    "Es un directorio"
   ]
  },
  {
   "cell_type": "code",
   "execution_count": 17,
   "metadata": {},
   "outputs": [
    {
     "name": "stdout",
     "output_type": "stream",
     "text": [
      "Encontramos prueba.txt pero es un directorio\n"
     ]
    }
   ],
   "source": [
    "def main():\n",
    "    try:\n",
    "        configuracion = open('prueba.txt')\n",
    "        print(\"Encontramos el archivo\")\n",
    "    except FileNotFoundError:\n",
    "        print(\"No encontramos el archivo especificado\")\n",
    "    except IsADirectoryError:\n",
    "        print(f\"Encontramos prueba.txt pero es un directorio\")\n",
    "        \n",
    "if __name__ == '__main__':\n",
    "    main()"
   ]
  },
  {
   "cell_type": "markdown",
   "metadata": {},
   "source": [
    "Prueba: Ingresa un int "
   ]
  },
  {
   "cell_type": "code",
   "execution_count": 45,
   "metadata": {},
   "outputs": [],
   "source": [
    "def prueba(numero):\n",
    "    try:\n",
    "        numero / 10\n",
    "    except TypeError:\n",
    "        raise TypeError(f\"El numero debe de ser un int pero se recibio: {numero}\")\n",
    "prueba(3)"
   ]
  },
  {
   "cell_type": "markdown",
   "metadata": {},
   "source": [
    "Prueba Avanzado"
   ]
  },
  {
   "cell_type": "code",
   "execution_count": 89,
   "metadata": {},
   "outputs": [
    {
     "name": "stdout",
     "output_type": "stream",
     "text": [
      "-------------------------------------------------------------------------------------------------------------------\n",
      "Omar tiene un sueldo base diario de 500 pesos.\n",
      "Trabajo 29 dias normales, 5 dias festivos.\n",
      "Los dias festivos se pagan triple, asi que lo que se le pagara este mes es: 22000 pesos\n"
     ]
    }
   ],
   "source": [
    "def trabajador(nombre,dias_trabajados,dias_trabajados_festivos,sueldo_dia):\n",
    "    for prueba in (dias_trabajados, sueldo_dia,dias_trabajados_festivos):\n",
    "        try:\n",
    "            prueba/10\n",
    "        except TypeError:\n",
    "            raise TypeError(f\"Todas las variables excepto nombre, deben ser int y se recibio {dias_trabajados, sueldo_dia, dias_trabajados_festivos}\")\n",
    "    \n",
    "    if nombre.isalpha():\n",
    "        print('-'*115)\n",
    "    else:\n",
    "        raise RuntimeError(\"Ingreso un numero en el campo 'Nombre'\")\n",
    "    \n",
    "    sueldo = dias_trabajados_festivos * (sueldo_dia*3)  \n",
    "    sueldo += dias_trabajados * sueldo_dia\n",
    "    if dias_trabajados == 0:\n",
    "        raise RuntimeError(\"No ingreso dias trabajados\")\n",
    "    return f\"\"\"{nombre} tiene un sueldo base diario de {sueldo_dia} pesos.\n",
    "Trabajo {dias_trabajados} dias normales, {dias_trabajados_festivos} dias festivos.\n",
    "Los dias festivos se pagan triple, asi que lo que se le pagara este mes es: {sueldo} pesos\"\"\"\n",
    "\n",
    "print(trabajador('Omar',29,5,500))"
   ]
  },
  {
   "cell_type": "markdown",
   "metadata": {},
   "source": [
    "Mismo codigo pero poniendo todo mal"
   ]
  },
  {
   "cell_type": "code",
   "execution_count": 90,
   "metadata": {},
   "outputs": [
    {
     "ename": "TypeError",
     "evalue": "Todas las variables excepto nombre, deben ser int y se recibio ('hola', 'hola', 'hola')",
     "output_type": "error",
     "traceback": [
      "\u001b[0;31m---------------------------------------------------------------------------\u001b[0m",
      "\u001b[0;31mTypeError\u001b[0m                                 Traceback (most recent call last)",
      "\u001b[0;32m/tmp/ipykernel_4535/1422403836.py\u001b[0m in \u001b[0;36mtrabajador\u001b[0;34m(nombre, dias_trabajados, dias_trabajados_festivos, sueldo_dia)\u001b[0m\n\u001b[1;32m      3\u001b[0m         \u001b[0;32mtry\u001b[0m\u001b[0;34m:\u001b[0m\u001b[0;34m\u001b[0m\u001b[0;34m\u001b[0m\u001b[0m\n\u001b[0;32m----> 4\u001b[0;31m             \u001b[0mprueba\u001b[0m\u001b[0;34m/\u001b[0m\u001b[0;36m10\u001b[0m\u001b[0;34m\u001b[0m\u001b[0;34m\u001b[0m\u001b[0m\n\u001b[0m\u001b[1;32m      5\u001b[0m         \u001b[0;32mexcept\u001b[0m \u001b[0mTypeError\u001b[0m\u001b[0;34m:\u001b[0m\u001b[0;34m\u001b[0m\u001b[0;34m\u001b[0m\u001b[0m\n",
      "\u001b[0;31mTypeError\u001b[0m: unsupported operand type(s) for /: 'str' and 'int'",
      "\nDuring handling of the above exception, another exception occurred:\n",
      "\u001b[0;31mTypeError\u001b[0m                                 Traceback (most recent call last)",
      "\u001b[0;32m/tmp/ipykernel_4535/1422403836.py\u001b[0m in \u001b[0;36m<module>\u001b[0;34m\u001b[0m\n\u001b[1;32m     19\u001b[0m Los dias festivos se pagan triple, asi que lo que se le pagara este mes es: {sueldo} pesos\"\"\"\n\u001b[1;32m     20\u001b[0m \u001b[0;34m\u001b[0m\u001b[0m\n\u001b[0;32m---> 21\u001b[0;31m \u001b[0mprint\u001b[0m\u001b[0;34m(\u001b[0m\u001b[0mtrabajador\u001b[0m\u001b[0;34m(\u001b[0m\u001b[0;34m'Omar'\u001b[0m\u001b[0;34m,\u001b[0m\u001b[0;34m'hola'\u001b[0m\u001b[0;34m,\u001b[0m\u001b[0;34m'hola'\u001b[0m\u001b[0;34m,\u001b[0m\u001b[0;34m'hola'\u001b[0m\u001b[0;34m)\u001b[0m\u001b[0;34m)\u001b[0m\u001b[0;34m\u001b[0m\u001b[0;34m\u001b[0m\u001b[0m\n\u001b[0m",
      "\u001b[0;32m/tmp/ipykernel_4535/1422403836.py\u001b[0m in \u001b[0;36mtrabajador\u001b[0;34m(nombre, dias_trabajados, dias_trabajados_festivos, sueldo_dia)\u001b[0m\n\u001b[1;32m      4\u001b[0m             \u001b[0mprueba\u001b[0m\u001b[0;34m/\u001b[0m\u001b[0;36m10\u001b[0m\u001b[0;34m\u001b[0m\u001b[0;34m\u001b[0m\u001b[0m\n\u001b[1;32m      5\u001b[0m         \u001b[0;32mexcept\u001b[0m \u001b[0mTypeError\u001b[0m\u001b[0;34m:\u001b[0m\u001b[0;34m\u001b[0m\u001b[0;34m\u001b[0m\u001b[0m\n\u001b[0;32m----> 6\u001b[0;31m             \u001b[0;32mraise\u001b[0m \u001b[0mTypeError\u001b[0m\u001b[0;34m(\u001b[0m\u001b[0;34mf\"Todas las variables excepto nombre, deben ser int y se recibio {dias_trabajados, sueldo_dia, dias_trabajados_festivos}\"\u001b[0m\u001b[0;34m)\u001b[0m\u001b[0;34m\u001b[0m\u001b[0;34m\u001b[0m\u001b[0m\n\u001b[0m\u001b[1;32m      7\u001b[0m \u001b[0;34m\u001b[0m\u001b[0m\n\u001b[1;32m      8\u001b[0m     \u001b[0;32mif\u001b[0m \u001b[0mnombre\u001b[0m\u001b[0;34m.\u001b[0m\u001b[0misalpha\u001b[0m\u001b[0;34m(\u001b[0m\u001b[0;34m)\u001b[0m\u001b[0;34m:\u001b[0m\u001b[0;34m\u001b[0m\u001b[0;34m\u001b[0m\u001b[0m\n",
      "\u001b[0;31mTypeError\u001b[0m: Todas las variables excepto nombre, deben ser int y se recibio ('hola', 'hola', 'hola')"
     ]
    }
   ],
   "source": [
    "def trabajador(nombre,dias_trabajados,dias_trabajados_festivos,sueldo_dia):\n",
    "    for prueba in (dias_trabajados, sueldo_dia,dias_trabajados_festivos):\n",
    "        try:\n",
    "            prueba/10\n",
    "        except TypeError:\n",
    "            raise TypeError(f\"Todas las variables excepto nombre, deben ser int y se recibio {dias_trabajados, sueldo_dia, dias_trabajados_festivos}\")\n",
    "    \n",
    "    if nombre.isalpha():\n",
    "        print('-'*115)\n",
    "    else:\n",
    "        raise RuntimeError(\"Ingreso un numero en el campo 'Nombre'\")\n",
    "    \n",
    "    sueldo = dias_trabajados_festivos * (sueldo_dia*3)  \n",
    "    sueldo += dias_trabajados * sueldo_dia\n",
    "    if dias_trabajados == 0:\n",
    "        raise RuntimeError(\"No ingreso dias trabajados\")\n",
    "    return f\"\"\"{nombre} tiene un sueldo base diario de {sueldo_dia} pesos.\n",
    "Trabajo {dias_trabajados} dias normales, {dias_trabajados_festivos} dias festivos.\n",
    "Los dias festivos se pagan triple, asi que lo que se le pagara este mes es: {sueldo} pesos\"\"\"\n",
    "\n",
    "print(trabajador('Omar','hola','hola','hola'))"
   ]
  }
 ],
 "metadata": {
  "interpreter": {
   "hash": "916dbcbb3f70747c44a77c7bcd40155683ae19c65e1c03b4aa3499c5328201f1"
  },
  "kernelspec": {
   "display_name": "Python 3.9.10 64-bit",
   "language": "python",
   "name": "python3"
  },
  "language_info": {
   "codemirror_mode": {
    "name": "ipython",
    "version": 3
   },
   "file_extension": ".py",
   "mimetype": "text/x-python",
   "name": "python",
   "nbconvert_exporter": "python",
   "pygments_lexer": "ipython3",
   "version": "3.9.10"
  },
  "orig_nbformat": 4
 },
 "nbformat": 4,
 "nbformat_minor": 2
}
